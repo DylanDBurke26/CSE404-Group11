{
 "cells": [
  {
   "attachments": {},
   "cell_type": "markdown",
   "metadata": {},
   "source": [
    "### Require Dependencies"
   ]
  },
  {
   "cell_type": "code",
   "execution_count": 1,
   "metadata": {},
   "outputs": [],
   "source": [
    "import pandas as pd\n",
    "import tensorflow as tf\n",
    "import matplotlib.pyplot as plt\n",
    "from tensorflow.keras.layers import LSTM, Dense\n",
    "import sklearn\n",
    "from sklearn.preprocessing import StandardScaler\n",
    "from sklearn.model_selection import train_test_split\n",
    "from sklearn.metrics import mean_squared_error\n",
    "from tensorflow.keras import Sequential\n",
    "from sklearn.preprocessing import MinMaxScaler\n",
    "from sklearn.metrics import mean_absolute_error, r2_score\n",
    "import numpy as np "
   ]
  },
  {
   "attachments": {},
   "cell_type": "markdown",
   "metadata": {},
   "source": [
    "### Preprocess Data"
   ]
  },
  {
   "cell_type": "code",
   "execution_count": 2,
   "metadata": {},
   "outputs": [
    {
     "data": {
      "text/html": [
       "<div>\n",
       "<style scoped>\n",
       "    .dataframe tbody tr th:only-of-type {\n",
       "        vertical-align: middle;\n",
       "    }\n",
       "\n",
       "    .dataframe tbody tr th {\n",
       "        vertical-align: top;\n",
       "    }\n",
       "\n",
       "    .dataframe thead th {\n",
       "        text-align: right;\n",
       "    }\n",
       "</style>\n",
       "<table border=\"1\" class=\"dataframe\">\n",
       "  <thead>\n",
       "    <tr style=\"text-align: right;\">\n",
       "      <th></th>\n",
       "      <th>date</th>\n",
       "      <th>onpromotion</th>\n",
       "      <th>storeNbr</th>\n",
       "      <th>AUTOMOTIVE</th>\n",
       "      <th>BABY CARE</th>\n",
       "      <th>BEAUTY</th>\n",
       "      <th>BEVERAGES</th>\n",
       "      <th>BOOKS</th>\n",
       "      <th>BREAD/BAKERY</th>\n",
       "      <th>CELEBRATION</th>\n",
       "      <th>...</th>\n",
       "      <th>MEATS</th>\n",
       "      <th>PERSONAL CARE</th>\n",
       "      <th>PET SUPPLIES</th>\n",
       "      <th>PLAYERS AND ELECTRONICS</th>\n",
       "      <th>POULTRY</th>\n",
       "      <th>PREPARED FOODS</th>\n",
       "      <th>PRODUCE</th>\n",
       "      <th>SCHOOL AND OFFICE SUPPLIES</th>\n",
       "      <th>SEAFOOD</th>\n",
       "      <th>totalSales</th>\n",
       "    </tr>\n",
       "  </thead>\n",
       "  <tbody>\n",
       "    <tr>\n",
       "      <th>0</th>\n",
       "      <td>2013-01-01</td>\n",
       "      <td>0</td>\n",
       "      <td>1</td>\n",
       "      <td>0</td>\n",
       "      <td>0</td>\n",
       "      <td>0</td>\n",
       "      <td>0</td>\n",
       "      <td>0</td>\n",
       "      <td>0.0</td>\n",
       "      <td>0</td>\n",
       "      <td>...</td>\n",
       "      <td>0.0</td>\n",
       "      <td>0</td>\n",
       "      <td>0</td>\n",
       "      <td>0</td>\n",
       "      <td>0.0</td>\n",
       "      <td>0.0</td>\n",
       "      <td>0.0</td>\n",
       "      <td>0</td>\n",
       "      <td>0.0</td>\n",
       "      <td>0.0</td>\n",
       "    </tr>\n",
       "    <tr>\n",
       "      <th>1</th>\n",
       "      <td>2013-01-01</td>\n",
       "      <td>0</td>\n",
       "      <td>2</td>\n",
       "      <td>0</td>\n",
       "      <td>0</td>\n",
       "      <td>0</td>\n",
       "      <td>0</td>\n",
       "      <td>0</td>\n",
       "      <td>0.0</td>\n",
       "      <td>0</td>\n",
       "      <td>...</td>\n",
       "      <td>0.0</td>\n",
       "      <td>0</td>\n",
       "      <td>0</td>\n",
       "      <td>0</td>\n",
       "      <td>0.0</td>\n",
       "      <td>0.0</td>\n",
       "      <td>0.0</td>\n",
       "      <td>0</td>\n",
       "      <td>0.0</td>\n",
       "      <td>0.0</td>\n",
       "    </tr>\n",
       "    <tr>\n",
       "      <th>2</th>\n",
       "      <td>2013-01-01</td>\n",
       "      <td>0</td>\n",
       "      <td>3</td>\n",
       "      <td>0</td>\n",
       "      <td>0</td>\n",
       "      <td>0</td>\n",
       "      <td>0</td>\n",
       "      <td>0</td>\n",
       "      <td>0.0</td>\n",
       "      <td>0</td>\n",
       "      <td>...</td>\n",
       "      <td>0.0</td>\n",
       "      <td>0</td>\n",
       "      <td>0</td>\n",
       "      <td>0</td>\n",
       "      <td>0.0</td>\n",
       "      <td>0.0</td>\n",
       "      <td>0.0</td>\n",
       "      <td>0</td>\n",
       "      <td>0.0</td>\n",
       "      <td>0.0</td>\n",
       "    </tr>\n",
       "    <tr>\n",
       "      <th>3</th>\n",
       "      <td>2013-01-01</td>\n",
       "      <td>0</td>\n",
       "      <td>4</td>\n",
       "      <td>0</td>\n",
       "      <td>0</td>\n",
       "      <td>0</td>\n",
       "      <td>0</td>\n",
       "      <td>0</td>\n",
       "      <td>0.0</td>\n",
       "      <td>0</td>\n",
       "      <td>...</td>\n",
       "      <td>0.0</td>\n",
       "      <td>0</td>\n",
       "      <td>0</td>\n",
       "      <td>0</td>\n",
       "      <td>0.0</td>\n",
       "      <td>0.0</td>\n",
       "      <td>0.0</td>\n",
       "      <td>0</td>\n",
       "      <td>0.0</td>\n",
       "      <td>0.0</td>\n",
       "    </tr>\n",
       "    <tr>\n",
       "      <th>4</th>\n",
       "      <td>2013-01-01</td>\n",
       "      <td>0</td>\n",
       "      <td>5</td>\n",
       "      <td>0</td>\n",
       "      <td>0</td>\n",
       "      <td>0</td>\n",
       "      <td>0</td>\n",
       "      <td>0</td>\n",
       "      <td>0.0</td>\n",
       "      <td>0</td>\n",
       "      <td>...</td>\n",
       "      <td>0.0</td>\n",
       "      <td>0</td>\n",
       "      <td>0</td>\n",
       "      <td>0</td>\n",
       "      <td>0.0</td>\n",
       "      <td>0.0</td>\n",
       "      <td>0.0</td>\n",
       "      <td>0</td>\n",
       "      <td>0.0</td>\n",
       "      <td>0.0</td>\n",
       "    </tr>\n",
       "  </tbody>\n",
       "</table>\n",
       "<p>5 rows × 37 columns</p>\n",
       "</div>"
      ],
      "text/plain": [
       "         date  onpromotion  storeNbr  AUTOMOTIVE  BABY CARE  BEAUTY   \n",
       "0  2013-01-01            0         1           0          0       0  \\\n",
       "1  2013-01-01            0         2           0          0       0   \n",
       "2  2013-01-01            0         3           0          0       0   \n",
       "3  2013-01-01            0         4           0          0       0   \n",
       "4  2013-01-01            0         5           0          0       0   \n",
       "\n",
       "   BEVERAGES  BOOKS  BREAD/BAKERY  CELEBRATION  ...  MEATS  PERSONAL CARE   \n",
       "0          0      0           0.0            0  ...    0.0              0  \\\n",
       "1          0      0           0.0            0  ...    0.0              0   \n",
       "2          0      0           0.0            0  ...    0.0              0   \n",
       "3          0      0           0.0            0  ...    0.0              0   \n",
       "4          0      0           0.0            0  ...    0.0              0   \n",
       "\n",
       "   PET SUPPLIES  PLAYERS AND ELECTRONICS  POULTRY  PREPARED FOODS  PRODUCE   \n",
       "0             0                        0      0.0             0.0      0.0  \\\n",
       "1             0                        0      0.0             0.0      0.0   \n",
       "2             0                        0      0.0             0.0      0.0   \n",
       "3             0                        0      0.0             0.0      0.0   \n",
       "4             0                        0      0.0             0.0      0.0   \n",
       "\n",
       "   SCHOOL AND OFFICE SUPPLIES  SEAFOOD  totalSales  \n",
       "0                           0      0.0         0.0  \n",
       "1                           0      0.0         0.0  \n",
       "2                           0      0.0         0.0  \n",
       "3                           0      0.0         0.0  \n",
       "4                           0      0.0         0.0  \n",
       "\n",
       "[5 rows x 37 columns]"
      ]
     },
     "execution_count": 2,
     "metadata": {},
     "output_type": "execute_result"
    }
   ],
   "source": [
    "df = pd.read_csv('data.csv', header=0)\n",
    "df.head()\n"
   ]
  },
  {
   "cell_type": "code",
   "execution_count": 3,
   "metadata": {},
   "outputs": [],
   "source": [
    "def create_dataset(dataset, look_back=1):\n",
    "    dataX, dataY = [], []\n",
    "    for i in range(len(dataset) - look_back):\n",
    "        dataX.append(dataset[i:(i + look_back), :])\n",
    "        dataY.append(dataset[i + look_back, 3:-1])\n",
    "    return np.array(dataX), np.array(dataY)\n"
   ]
  },
  {
   "attachments": {},
   "cell_type": "markdown",
   "metadata": {},
   "source": [
    "### Define Architecture"
   ]
  },
  {
   "cell_type": "code",
   "execution_count": 12,
   "metadata": {},
   "outputs": [
    {
     "name": "stdout",
     "output_type": "stream",
     "text": [
      "Model: \"sequential_1\"\n",
      "_________________________________________________________________\n",
      " Layer (type)                Output Shape              Param #   \n",
      "=================================================================\n",
      " lstm_1 (LSTM)               (None, 256)               299008    \n",
      "                                                                 \n",
      " dense_1 (Dense)             (None, 32)                8224      \n",
      "                                                                 \n",
      "=================================================================\n",
      "Total params: 307,232\n",
      "Trainable params: 307,232\n",
      "Non-trainable params: 0\n",
      "_________________________________________________________________\n"
     ]
    }
   ],
   "source": [
    "look_back = 15\n",
    "num_categories = len(df.columns) - 4  # Excluding date, storeNbr, onpromotion, and totalSales\n",
    "\n",
    "model = Sequential()\n",
    "model.add(LSTM(256, input_shape=(look_back, num_categories + 2)))  # +3 for storeNbr, onpromotion, and totalSales\n",
    "model.add(Dense(32))\n",
    "model.compile(loss='mean_squared_error', optimizer='adam')\n",
    "model.summary()\n"
   ]
  },
  {
   "attachments": {},
   "cell_type": "markdown",
   "metadata": {},
   "source": [
    "### Train the model"
   ]
  },
  {
   "cell_type": "code",
   "execution_count": 13,
   "metadata": {},
   "outputs": [
    {
     "name": "stdout",
     "output_type": "stream",
     "text": [
      "Epoch 1/100\n"
     ]
    },
    {
     "ename": "ValueError",
     "evalue": "in user code:\n\n    File \"c:\\Users\\rykun\\OneDrive - Michigan State University\\Machine Learning\\CSE404-Group11\\env\\lib\\site-packages\\keras\\engine\\training.py\", line 1284, in train_function  *\n        return step_function(self, iterator)\n    File \"c:\\Users\\rykun\\OneDrive - Michigan State University\\Machine Learning\\CSE404-Group11\\env\\lib\\site-packages\\keras\\engine\\training.py\", line 1268, in step_function  **\n        outputs = model.distribute_strategy.run(run_step, args=(data,))\n    File \"c:\\Users\\rykun\\OneDrive - Michigan State University\\Machine Learning\\CSE404-Group11\\env\\lib\\site-packages\\keras\\engine\\training.py\", line 1249, in run_step  **\n        outputs = model.train_step(data)\n    File \"c:\\Users\\rykun\\OneDrive - Michigan State University\\Machine Learning\\CSE404-Group11\\env\\lib\\site-packages\\keras\\engine\\training.py\", line 1051, in train_step\n        loss = self.compute_loss(x, y, y_pred, sample_weight)\n    File \"c:\\Users\\rykun\\OneDrive - Michigan State University\\Machine Learning\\CSE404-Group11\\env\\lib\\site-packages\\keras\\engine\\training.py\", line 1109, in compute_loss\n        return self.compiled_loss(\n    File \"c:\\Users\\rykun\\OneDrive - Michigan State University\\Machine Learning\\CSE404-Group11\\env\\lib\\site-packages\\keras\\engine\\compile_utils.py\", line 265, in __call__\n        loss_value = loss_obj(y_t, y_p, sample_weight=sw)\n    File \"c:\\Users\\rykun\\OneDrive - Michigan State University\\Machine Learning\\CSE404-Group11\\env\\lib\\site-packages\\keras\\losses.py\", line 142, in __call__\n        losses = call_fn(y_true, y_pred)\n    File \"c:\\Users\\rykun\\OneDrive - Michigan State University\\Machine Learning\\CSE404-Group11\\env\\lib\\site-packages\\keras\\losses.py\", line 268, in call  **\n        return ag_fn(y_true, y_pred, **self._fn_kwargs)\n    File \"c:\\Users\\rykun\\OneDrive - Michigan State University\\Machine Learning\\CSE404-Group11\\env\\lib\\site-packages\\keras\\losses.py\", line 1470, in mean_squared_error\n        return backend.mean(tf.math.squared_difference(y_pred, y_true), axis=-1)\n\n    ValueError: Dimensions must be equal, but are 32 and 31 for '{{node mean_squared_error/SquaredDifference}} = SquaredDifference[T=DT_FLOAT](sequential_1/dense_1/BiasAdd, IteratorGetNext:1)' with input shapes: [?,32], [?,31].\n",
     "output_type": "error",
     "traceback": [
      "\u001b[1;31m---------------------------------------------------------------------------\u001b[0m",
      "\u001b[1;31mValueError\u001b[0m                                Traceback (most recent call last)",
      "Cell \u001b[1;32mIn[13], line 20\u001b[0m\n\u001b[0;32m     16\u001b[0m \u001b[39m# Split the data into training and testing sets\u001b[39;00m\n\u001b[0;32m     17\u001b[0m trainX, testX, trainY, testY \u001b[39m=\u001b[39m train_test_split(X, y, test_size\u001b[39m=\u001b[39m\u001b[39m0.2\u001b[39m, random_state\u001b[39m=\u001b[39m\u001b[39m42\u001b[39m)\n\u001b[1;32m---> 20\u001b[0m history \u001b[39m=\u001b[39m model\u001b[39m.\u001b[39;49mfit(trainX, trainY, epochs\u001b[39m=\u001b[39;49m\u001b[39m100\u001b[39;49m, batch_size\u001b[39m=\u001b[39;49m\u001b[39m32\u001b[39;49m, verbose\u001b[39m=\u001b[39;49m\u001b[39m2\u001b[39;49m, validation_data\u001b[39m=\u001b[39;49m(testX, testY))\n",
      "File \u001b[1;32mc:\\Users\\rykun\\OneDrive - Michigan State University\\Machine Learning\\CSE404-Group11\\env\\lib\\site-packages\\keras\\utils\\traceback_utils.py:70\u001b[0m, in \u001b[0;36mfilter_traceback.<locals>.error_handler\u001b[1;34m(*args, **kwargs)\u001b[0m\n\u001b[0;32m     67\u001b[0m     filtered_tb \u001b[39m=\u001b[39m _process_traceback_frames(e\u001b[39m.\u001b[39m__traceback__)\n\u001b[0;32m     68\u001b[0m     \u001b[39m# To get the full stack trace, call:\u001b[39;00m\n\u001b[0;32m     69\u001b[0m     \u001b[39m# `tf.debugging.disable_traceback_filtering()`\u001b[39;00m\n\u001b[1;32m---> 70\u001b[0m     \u001b[39mraise\u001b[39;00m e\u001b[39m.\u001b[39mwith_traceback(filtered_tb) \u001b[39mfrom\u001b[39;00m \u001b[39mNone\u001b[39;00m\n\u001b[0;32m     71\u001b[0m \u001b[39mfinally\u001b[39;00m:\n\u001b[0;32m     72\u001b[0m     \u001b[39mdel\u001b[39;00m filtered_tb\n",
      "File \u001b[1;32m~\\AppData\\Local\\Temp\\__autograph_generated_filehrvmdfof.py:15\u001b[0m, in \u001b[0;36mouter_factory.<locals>.inner_factory.<locals>.tf__train_function\u001b[1;34m(iterator)\u001b[0m\n\u001b[0;32m     13\u001b[0m \u001b[39mtry\u001b[39;00m:\n\u001b[0;32m     14\u001b[0m     do_return \u001b[39m=\u001b[39m \u001b[39mTrue\u001b[39;00m\n\u001b[1;32m---> 15\u001b[0m     retval_ \u001b[39m=\u001b[39m ag__\u001b[39m.\u001b[39mconverted_call(ag__\u001b[39m.\u001b[39mld(step_function), (ag__\u001b[39m.\u001b[39mld(\u001b[39mself\u001b[39m), ag__\u001b[39m.\u001b[39mld(iterator)), \u001b[39mNone\u001b[39;00m, fscope)\n\u001b[0;32m     16\u001b[0m \u001b[39mexcept\u001b[39;00m:\n\u001b[0;32m     17\u001b[0m     do_return \u001b[39m=\u001b[39m \u001b[39mFalse\u001b[39;00m\n",
      "\u001b[1;31mValueError\u001b[0m: in user code:\n\n    File \"c:\\Users\\rykun\\OneDrive - Michigan State University\\Machine Learning\\CSE404-Group11\\env\\lib\\site-packages\\keras\\engine\\training.py\", line 1284, in train_function  *\n        return step_function(self, iterator)\n    File \"c:\\Users\\rykun\\OneDrive - Michigan State University\\Machine Learning\\CSE404-Group11\\env\\lib\\site-packages\\keras\\engine\\training.py\", line 1268, in step_function  **\n        outputs = model.distribute_strategy.run(run_step, args=(data,))\n    File \"c:\\Users\\rykun\\OneDrive - Michigan State University\\Machine Learning\\CSE404-Group11\\env\\lib\\site-packages\\keras\\engine\\training.py\", line 1249, in run_step  **\n        outputs = model.train_step(data)\n    File \"c:\\Users\\rykun\\OneDrive - Michigan State University\\Machine Learning\\CSE404-Group11\\env\\lib\\site-packages\\keras\\engine\\training.py\", line 1051, in train_step\n        loss = self.compute_loss(x, y, y_pred, sample_weight)\n    File \"c:\\Users\\rykun\\OneDrive - Michigan State University\\Machine Learning\\CSE404-Group11\\env\\lib\\site-packages\\keras\\engine\\training.py\", line 1109, in compute_loss\n        return self.compiled_loss(\n    File \"c:\\Users\\rykun\\OneDrive - Michigan State University\\Machine Learning\\CSE404-Group11\\env\\lib\\site-packages\\keras\\engine\\compile_utils.py\", line 265, in __call__\n        loss_value = loss_obj(y_t, y_p, sample_weight=sw)\n    File \"c:\\Users\\rykun\\OneDrive - Michigan State University\\Machine Learning\\CSE404-Group11\\env\\lib\\site-packages\\keras\\losses.py\", line 142, in __call__\n        losses = call_fn(y_true, y_pred)\n    File \"c:\\Users\\rykun\\OneDrive - Michigan State University\\Machine Learning\\CSE404-Group11\\env\\lib\\site-packages\\keras\\losses.py\", line 268, in call  **\n        return ag_fn(y_true, y_pred, **self._fn_kwargs)\n    File \"c:\\Users\\rykun\\OneDrive - Michigan State University\\Machine Learning\\CSE404-Group11\\env\\lib\\site-packages\\keras\\losses.py\", line 1470, in mean_squared_error\n        return backend.mean(tf.math.squared_difference(y_pred, y_true), axis=-1)\n\n    ValueError: Dimensions must be equal, but are 32 and 31 for '{{node mean_squared_error/SquaredDifference}} = SquaredDifference[T=DT_FLOAT](sequential_1/dense_1/BiasAdd, IteratorGetNext:1)' with input shapes: [?,32], [?,31].\n"
     ]
    }
   ],
   "source": [
    "# Prepare the dataset\n",
    "df = pd.read_csv('data.csv', header=0)\n",
    "df['date'] = pd.to_datetime(df['date'])\n",
    "df = df[df['storeNbr'] == 1] # start with only the first store\n",
    "data = df.sort_values(by=['date']).drop(columns=['date','storeNbr']).values\n",
    "\n",
    "\n",
    "# Create input-output pairs\n",
    "X, y = create_dataset(data, look_back)\n",
    "\n",
    "# Standardize the data\n",
    "scaler = StandardScaler()\n",
    "data = scaler.fit_transform(data)\n",
    "\n",
    "\n",
    "# Split the data into training and testing sets\n",
    "trainX, testX, trainY, testY = train_test_split(X, y, test_size=0.2, random_state=42)\n",
    "\n",
    "\n",
    "# history = model.fit(trainX, trainY, epochs=100, batch_size=32, verbose=2, validation_data=(testX, testY))\n"
   ]
  },
  {
   "cell_type": "code",
   "execution_count": 6,
   "metadata": {},
   "outputs": [
    {
     "name": "stdout",
     "output_type": "stream",
     "text": [
      "Epoch 1/100\n"
     ]
    },
    {
     "ename": "InvalidArgumentError",
     "evalue": "Graph execution error:\n\nDetected at node 'while/MatMul' defined at (most recent call last):\n    File \"C:\\Program Files\\WindowsApps\\PythonSoftwareFoundation.Python.3.10_3.10.3056.0_x64__qbz5n2kfra8p0\\lib\\runpy.py\", line 196, in _run_module_as_main\n      return _run_code(code, main_globals, None,\n    File \"C:\\Program Files\\WindowsApps\\PythonSoftwareFoundation.Python.3.10_3.10.3056.0_x64__qbz5n2kfra8p0\\lib\\runpy.py\", line 86, in _run_code\n      exec(code, run_globals)\n    File \"c:\\Users\\rykun\\OneDrive - Michigan State University\\Machine Learning\\CSE404-Group11\\env\\lib\\site-packages\\ipykernel_launcher.py\", line 17, in <module>\n      app.launch_new_instance()\n    File \"c:\\Users\\rykun\\OneDrive - Michigan State University\\Machine Learning\\CSE404-Group11\\env\\lib\\site-packages\\traitlets\\config\\application.py\", line 1043, in launch_instance\n      app.start()\n    File \"c:\\Users\\rykun\\OneDrive - Michigan State University\\Machine Learning\\CSE404-Group11\\env\\lib\\site-packages\\ipykernel\\kernelapp.py\", line 725, in start\n      self.io_loop.start()\n    File \"c:\\Users\\rykun\\OneDrive - Michigan State University\\Machine Learning\\CSE404-Group11\\env\\lib\\site-packages\\tornado\\platform\\asyncio.py\", line 215, in start\n      self.asyncio_loop.run_forever()\n    File \"C:\\Program Files\\WindowsApps\\PythonSoftwareFoundation.Python.3.10_3.10.3056.0_x64__qbz5n2kfra8p0\\lib\\asyncio\\base_events.py\", line 603, in run_forever\n      self._run_once()\n    File \"C:\\Program Files\\WindowsApps\\PythonSoftwareFoundation.Python.3.10_3.10.3056.0_x64__qbz5n2kfra8p0\\lib\\asyncio\\base_events.py\", line 1909, in _run_once\n      handle._run()\n    File \"C:\\Program Files\\WindowsApps\\PythonSoftwareFoundation.Python.3.10_3.10.3056.0_x64__qbz5n2kfra8p0\\lib\\asyncio\\events.py\", line 80, in _run\n      self._context.run(self._callback, *self._args)\n    File \"c:\\Users\\rykun\\OneDrive - Michigan State University\\Machine Learning\\CSE404-Group11\\env\\lib\\site-packages\\ipykernel\\kernelbase.py\", line 513, in dispatch_queue\n      await self.process_one()\n    File \"c:\\Users\\rykun\\OneDrive - Michigan State University\\Machine Learning\\CSE404-Group11\\env\\lib\\site-packages\\ipykernel\\kernelbase.py\", line 502, in process_one\n      await dispatch(*args)\n    File \"c:\\Users\\rykun\\OneDrive - Michigan State University\\Machine Learning\\CSE404-Group11\\env\\lib\\site-packages\\ipykernel\\kernelbase.py\", line 409, in dispatch_shell\n      await result\n    File \"c:\\Users\\rykun\\OneDrive - Michigan State University\\Machine Learning\\CSE404-Group11\\env\\lib\\site-packages\\ipykernel\\kernelbase.py\", line 729, in execute_request\n      reply_content = await reply_content\n    File \"c:\\Users\\rykun\\OneDrive - Michigan State University\\Machine Learning\\CSE404-Group11\\env\\lib\\site-packages\\ipykernel\\ipkernel.py\", line 422, in do_execute\n      res = shell.run_cell(\n    File \"c:\\Users\\rykun\\OneDrive - Michigan State University\\Machine Learning\\CSE404-Group11\\env\\lib\\site-packages\\ipykernel\\zmqshell.py\", line 540, in run_cell\n      return super().run_cell(*args, **kwargs)\n    File \"c:\\Users\\rykun\\OneDrive - Michigan State University\\Machine Learning\\CSE404-Group11\\env\\lib\\site-packages\\IPython\\core\\interactiveshell.py\", line 3006, in run_cell\n      result = self._run_cell(\n    File \"c:\\Users\\rykun\\OneDrive - Michigan State University\\Machine Learning\\CSE404-Group11\\env\\lib\\site-packages\\IPython\\core\\interactiveshell.py\", line 3061, in _run_cell\n      result = runner(coro)\n    File \"c:\\Users\\rykun\\OneDrive - Michigan State University\\Machine Learning\\CSE404-Group11\\env\\lib\\site-packages\\IPython\\core\\async_helpers.py\", line 129, in _pseudo_sync_runner\n      coro.send(None)\n    File \"c:\\Users\\rykun\\OneDrive - Michigan State University\\Machine Learning\\CSE404-Group11\\env\\lib\\site-packages\\IPython\\core\\interactiveshell.py\", line 3266, in run_cell_async\n      has_raised = await self.run_ast_nodes(code_ast.body, cell_name,\n    File \"c:\\Users\\rykun\\OneDrive - Michigan State University\\Machine Learning\\CSE404-Group11\\env\\lib\\site-packages\\IPython\\core\\interactiveshell.py\", line 3445, in run_ast_nodes\n      if await self.run_code(code, result, async_=asy):\n    File \"c:\\Users\\rykun\\OneDrive - Michigan State University\\Machine Learning\\CSE404-Group11\\env\\lib\\site-packages\\IPython\\core\\interactiveshell.py\", line 3505, in run_code\n      exec(code_obj, self.user_global_ns, self.user_ns)\n    File \"C:\\Users\\rykun\\AppData\\Local\\Temp\\ipykernel_14952\\50569356.py\", line 16, in <module>\n      history = model.fit(trainX, trainY, epochs=100, batch_size=32, verbose=2, validation_data=(testX, testY))\n    File \"c:\\Users\\rykun\\OneDrive - Michigan State University\\Machine Learning\\CSE404-Group11\\env\\lib\\site-packages\\keras\\utils\\traceback_utils.py\", line 65, in error_handler\n      return fn(*args, **kwargs)\n    File \"c:\\Users\\rykun\\OneDrive - Michigan State University\\Machine Learning\\CSE404-Group11\\env\\lib\\site-packages\\keras\\engine\\training.py\", line 1685, in fit\n      tmp_logs = self.train_function(iterator)\n    File \"c:\\Users\\rykun\\OneDrive - Michigan State University\\Machine Learning\\CSE404-Group11\\env\\lib\\site-packages\\keras\\engine\\training.py\", line 1284, in train_function\n      return step_function(self, iterator)\n    File \"c:\\Users\\rykun\\OneDrive - Michigan State University\\Machine Learning\\CSE404-Group11\\env\\lib\\site-packages\\keras\\engine\\training.py\", line 1268, in step_function\n      outputs = model.distribute_strategy.run(run_step, args=(data,))\n    File \"c:\\Users\\rykun\\OneDrive - Michigan State University\\Machine Learning\\CSE404-Group11\\env\\lib\\site-packages\\keras\\engine\\training.py\", line 1249, in run_step\n      outputs = model.train_step(data)\n    File \"c:\\Users\\rykun\\OneDrive - Michigan State University\\Machine Learning\\CSE404-Group11\\env\\lib\\site-packages\\keras\\engine\\training.py\", line 1050, in train_step\n      y_pred = self(x, training=True)\n    File \"c:\\Users\\rykun\\OneDrive - Michigan State University\\Machine Learning\\CSE404-Group11\\env\\lib\\site-packages\\keras\\utils\\traceback_utils.py\", line 65, in error_handler\n      return fn(*args, **kwargs)\n    File \"c:\\Users\\rykun\\OneDrive - Michigan State University\\Machine Learning\\CSE404-Group11\\env\\lib\\site-packages\\keras\\engine\\training.py\", line 558, in __call__\n      return super().__call__(*args, **kwargs)\n    File \"c:\\Users\\rykun\\OneDrive - Michigan State University\\Machine Learning\\CSE404-Group11\\env\\lib\\site-packages\\keras\\utils\\traceback_utils.py\", line 65, in error_handler\n      return fn(*args, **kwargs)\n    File \"c:\\Users\\rykun\\OneDrive - Michigan State University\\Machine Learning\\CSE404-Group11\\env\\lib\\site-packages\\keras\\engine\\base_layer.py\", line 1145, in __call__\n      outputs = call_fn(inputs, *args, **kwargs)\n    File \"c:\\Users\\rykun\\OneDrive - Michigan State University\\Machine Learning\\CSE404-Group11\\env\\lib\\site-packages\\keras\\utils\\traceback_utils.py\", line 96, in error_handler\n      return fn(*args, **kwargs)\n    File \"c:\\Users\\rykun\\OneDrive - Michigan State University\\Machine Learning\\CSE404-Group11\\env\\lib\\site-packages\\keras\\engine\\sequential.py\", line 412, in call\n      return super().call(inputs, training=training, mask=mask)\n    File \"c:\\Users\\rykun\\OneDrive - Michigan State University\\Machine Learning\\CSE404-Group11\\env\\lib\\site-packages\\keras\\engine\\functional.py\", line 512, in call\n      return self._run_internal_graph(inputs, training=training, mask=mask)\n    File \"c:\\Users\\rykun\\OneDrive - Michigan State University\\Machine Learning\\CSE404-Group11\\env\\lib\\site-packages\\keras\\engine\\functional.py\", line 669, in _run_internal_graph\n      outputs = node.layer(*args, **kwargs)\n    File \"c:\\Users\\rykun\\OneDrive - Michigan State University\\Machine Learning\\CSE404-Group11\\env\\lib\\site-packages\\keras\\layers\\rnn\\base_rnn.py\", line 556, in __call__\n      return super().__call__(inputs, **kwargs)\n    File \"c:\\Users\\rykun\\OneDrive - Michigan State University\\Machine Learning\\CSE404-Group11\\env\\lib\\site-packages\\keras\\utils\\traceback_utils.py\", line 65, in error_handler\n      return fn(*args, **kwargs)\n    File \"c:\\Users\\rykun\\OneDrive - Michigan State University\\Machine Learning\\CSE404-Group11\\env\\lib\\site-packages\\keras\\engine\\base_layer.py\", line 1145, in __call__\n      outputs = call_fn(inputs, *args, **kwargs)\n    File \"c:\\Users\\rykun\\OneDrive - Michigan State University\\Machine Learning\\CSE404-Group11\\env\\lib\\site-packages\\keras\\utils\\traceback_utils.py\", line 96, in error_handler\n      return fn(*args, **kwargs)\n    File \"c:\\Users\\rykun\\OneDrive - Michigan State University\\Machine Learning\\CSE404-Group11\\env\\lib\\site-packages\\keras\\layers\\rnn\\lstm.py\", line 748, in call\n      ) = lstm_with_backend_selection(**normal_lstm_kwargs)\n    File \"c:\\Users\\rykun\\OneDrive - Michigan State University\\Machine Learning\\CSE404-Group11\\env\\lib\\site-packages\\keras\\layers\\rnn\\lstm.py\", line 1338, in lstm_with_backend_selection\n      last_output, outputs, new_h, new_c, runtime = defun_standard_lstm(\n    File \"c:\\Users\\rykun\\OneDrive - Michigan State University\\Machine Learning\\CSE404-Group11\\env\\lib\\site-packages\\keras\\layers\\rnn\\lstm.py\", line 980, in standard_lstm\n      last_output, outputs, new_states = backend.rnn(\n    File \"c:\\Users\\rykun\\OneDrive - Michigan State University\\Machine Learning\\CSE404-Group11\\env\\lib\\site-packages\\keras\\backend.py\", line 5169, in rnn\n      final_outputs = tf.compat.v1.while_loop(\n    File \"c:\\Users\\rykun\\OneDrive - Michigan State University\\Machine Learning\\CSE404-Group11\\env\\lib\\site-packages\\keras\\backend.py\", line 5148, in _step\n      output, new_states = step_function(\n    File \"c:\\Users\\rykun\\OneDrive - Michigan State University\\Machine Learning\\CSE404-Group11\\env\\lib\\site-packages\\keras\\layers\\rnn\\lstm.py\", line 966, in step\n      z = backend.dot(cell_inputs, kernel)\n    File \"c:\\Users\\rykun\\OneDrive - Michigan State University\\Machine Learning\\CSE404-Group11\\env\\lib\\site-packages\\keras\\backend.py\", line 2464, in dot\n      out = tf.matmul(x, y)\nNode: 'while/MatMul'\nMatrix size-incompatible: In[0]: [32,35], In[1]: [36,1024]\n\t [[{{node while/MatMul}}]]\n\t [[sequential/lstm/PartitionedCall]] [Op:__inference_train_function_40789]",
     "output_type": "error",
     "traceback": [
      "\u001b[1;31m---------------------------------------------------------------------------\u001b[0m",
      "\u001b[1;31mInvalidArgumentError\u001b[0m                      Traceback (most recent call last)",
      "Cell \u001b[1;32mIn[6], line 16\u001b[0m\n\u001b[0;32m     13\u001b[0m \u001b[39m# Split the data into training and testing sets\u001b[39;00m\n\u001b[0;32m     14\u001b[0m trainX, testX, trainY, testY \u001b[39m=\u001b[39m train_test_split(X, y, test_size\u001b[39m=\u001b[39m\u001b[39m0.2\u001b[39m, random_state\u001b[39m=\u001b[39m\u001b[39m42\u001b[39m)\n\u001b[1;32m---> 16\u001b[0m history \u001b[39m=\u001b[39m model\u001b[39m.\u001b[39;49mfit(trainX, trainY, epochs\u001b[39m=\u001b[39;49m\u001b[39m100\u001b[39;49m, batch_size\u001b[39m=\u001b[39;49m\u001b[39m32\u001b[39;49m, verbose\u001b[39m=\u001b[39;49m\u001b[39m2\u001b[39;49m, validation_data\u001b[39m=\u001b[39;49m(testX, testY))\n\u001b[0;32m     18\u001b[0m \u001b[39m# Get the training loss and accuracy from the history object\u001b[39;00m\n\u001b[0;32m     19\u001b[0m training_loss \u001b[39m=\u001b[39m history\u001b[39m.\u001b[39mhistory[\u001b[39m'\u001b[39m\u001b[39mloss\u001b[39m\u001b[39m'\u001b[39m]\n",
      "File \u001b[1;32mc:\\Users\\rykun\\OneDrive - Michigan State University\\Machine Learning\\CSE404-Group11\\env\\lib\\site-packages\\keras\\utils\\traceback_utils.py:70\u001b[0m, in \u001b[0;36mfilter_traceback.<locals>.error_handler\u001b[1;34m(*args, **kwargs)\u001b[0m\n\u001b[0;32m     67\u001b[0m     filtered_tb \u001b[39m=\u001b[39m _process_traceback_frames(e\u001b[39m.\u001b[39m__traceback__)\n\u001b[0;32m     68\u001b[0m     \u001b[39m# To get the full stack trace, call:\u001b[39;00m\n\u001b[0;32m     69\u001b[0m     \u001b[39m# `tf.debugging.disable_traceback_filtering()`\u001b[39;00m\n\u001b[1;32m---> 70\u001b[0m     \u001b[39mraise\u001b[39;00m e\u001b[39m.\u001b[39mwith_traceback(filtered_tb) \u001b[39mfrom\u001b[39;00m \u001b[39mNone\u001b[39;00m\n\u001b[0;32m     71\u001b[0m \u001b[39mfinally\u001b[39;00m:\n\u001b[0;32m     72\u001b[0m     \u001b[39mdel\u001b[39;00m filtered_tb\n",
      "File \u001b[1;32mc:\\Users\\rykun\\OneDrive - Michigan State University\\Machine Learning\\CSE404-Group11\\env\\lib\\site-packages\\tensorflow\\python\\eager\\execute.py:52\u001b[0m, in \u001b[0;36mquick_execute\u001b[1;34m(op_name, num_outputs, inputs, attrs, ctx, name)\u001b[0m\n\u001b[0;32m     50\u001b[0m \u001b[39mtry\u001b[39;00m:\n\u001b[0;32m     51\u001b[0m   ctx\u001b[39m.\u001b[39mensure_initialized()\n\u001b[1;32m---> 52\u001b[0m   tensors \u001b[39m=\u001b[39m pywrap_tfe\u001b[39m.\u001b[39mTFE_Py_Execute(ctx\u001b[39m.\u001b[39m_handle, device_name, op_name,\n\u001b[0;32m     53\u001b[0m                                       inputs, attrs, num_outputs)\n\u001b[0;32m     54\u001b[0m \u001b[39mexcept\u001b[39;00m core\u001b[39m.\u001b[39m_NotOkStatusException \u001b[39mas\u001b[39;00m e:\n\u001b[0;32m     55\u001b[0m   \u001b[39mif\u001b[39;00m name \u001b[39mis\u001b[39;00m \u001b[39mnot\u001b[39;00m \u001b[39mNone\u001b[39;00m:\n",
      "\u001b[1;31mInvalidArgumentError\u001b[0m: Graph execution error:\n\nDetected at node 'while/MatMul' defined at (most recent call last):\n    File \"C:\\Program Files\\WindowsApps\\PythonSoftwareFoundation.Python.3.10_3.10.3056.0_x64__qbz5n2kfra8p0\\lib\\runpy.py\", line 196, in _run_module_as_main\n      return _run_code(code, main_globals, None,\n    File \"C:\\Program Files\\WindowsApps\\PythonSoftwareFoundation.Python.3.10_3.10.3056.0_x64__qbz5n2kfra8p0\\lib\\runpy.py\", line 86, in _run_code\n      exec(code, run_globals)\n    File \"c:\\Users\\rykun\\OneDrive - Michigan State University\\Machine Learning\\CSE404-Group11\\env\\lib\\site-packages\\ipykernel_launcher.py\", line 17, in <module>\n      app.launch_new_instance()\n    File \"c:\\Users\\rykun\\OneDrive - Michigan State University\\Machine Learning\\CSE404-Group11\\env\\lib\\site-packages\\traitlets\\config\\application.py\", line 1043, in launch_instance\n      app.start()\n    File \"c:\\Users\\rykun\\OneDrive - Michigan State University\\Machine Learning\\CSE404-Group11\\env\\lib\\site-packages\\ipykernel\\kernelapp.py\", line 725, in start\n      self.io_loop.start()\n    File \"c:\\Users\\rykun\\OneDrive - Michigan State University\\Machine Learning\\CSE404-Group11\\env\\lib\\site-packages\\tornado\\platform\\asyncio.py\", line 215, in start\n      self.asyncio_loop.run_forever()\n    File \"C:\\Program Files\\WindowsApps\\PythonSoftwareFoundation.Python.3.10_3.10.3056.0_x64__qbz5n2kfra8p0\\lib\\asyncio\\base_events.py\", line 603, in run_forever\n      self._run_once()\n    File \"C:\\Program Files\\WindowsApps\\PythonSoftwareFoundation.Python.3.10_3.10.3056.0_x64__qbz5n2kfra8p0\\lib\\asyncio\\base_events.py\", line 1909, in _run_once\n      handle._run()\n    File \"C:\\Program Files\\WindowsApps\\PythonSoftwareFoundation.Python.3.10_3.10.3056.0_x64__qbz5n2kfra8p0\\lib\\asyncio\\events.py\", line 80, in _run\n      self._context.run(self._callback, *self._args)\n    File \"c:\\Users\\rykun\\OneDrive - Michigan State University\\Machine Learning\\CSE404-Group11\\env\\lib\\site-packages\\ipykernel\\kernelbase.py\", line 513, in dispatch_queue\n      await self.process_one()\n    File \"c:\\Users\\rykun\\OneDrive - Michigan State University\\Machine Learning\\CSE404-Group11\\env\\lib\\site-packages\\ipykernel\\kernelbase.py\", line 502, in process_one\n      await dispatch(*args)\n    File \"c:\\Users\\rykun\\OneDrive - Michigan State University\\Machine Learning\\CSE404-Group11\\env\\lib\\site-packages\\ipykernel\\kernelbase.py\", line 409, in dispatch_shell\n      await result\n    File \"c:\\Users\\rykun\\OneDrive - Michigan State University\\Machine Learning\\CSE404-Group11\\env\\lib\\site-packages\\ipykernel\\kernelbase.py\", line 729, in execute_request\n      reply_content = await reply_content\n    File \"c:\\Users\\rykun\\OneDrive - Michigan State University\\Machine Learning\\CSE404-Group11\\env\\lib\\site-packages\\ipykernel\\ipkernel.py\", line 422, in do_execute\n      res = shell.run_cell(\n    File \"c:\\Users\\rykun\\OneDrive - Michigan State University\\Machine Learning\\CSE404-Group11\\env\\lib\\site-packages\\ipykernel\\zmqshell.py\", line 540, in run_cell\n      return super().run_cell(*args, **kwargs)\n    File \"c:\\Users\\rykun\\OneDrive - Michigan State University\\Machine Learning\\CSE404-Group11\\env\\lib\\site-packages\\IPython\\core\\interactiveshell.py\", line 3006, in run_cell\n      result = self._run_cell(\n    File \"c:\\Users\\rykun\\OneDrive - Michigan State University\\Machine Learning\\CSE404-Group11\\env\\lib\\site-packages\\IPython\\core\\interactiveshell.py\", line 3061, in _run_cell\n      result = runner(coro)\n    File \"c:\\Users\\rykun\\OneDrive - Michigan State University\\Machine Learning\\CSE404-Group11\\env\\lib\\site-packages\\IPython\\core\\async_helpers.py\", line 129, in _pseudo_sync_runner\n      coro.send(None)\n    File \"c:\\Users\\rykun\\OneDrive - Michigan State University\\Machine Learning\\CSE404-Group11\\env\\lib\\site-packages\\IPython\\core\\interactiveshell.py\", line 3266, in run_cell_async\n      has_raised = await self.run_ast_nodes(code_ast.body, cell_name,\n    File \"c:\\Users\\rykun\\OneDrive - Michigan State University\\Machine Learning\\CSE404-Group11\\env\\lib\\site-packages\\IPython\\core\\interactiveshell.py\", line 3445, in run_ast_nodes\n      if await self.run_code(code, result, async_=asy):\n    File \"c:\\Users\\rykun\\OneDrive - Michigan State University\\Machine Learning\\CSE404-Group11\\env\\lib\\site-packages\\IPython\\core\\interactiveshell.py\", line 3505, in run_code\n      exec(code_obj, self.user_global_ns, self.user_ns)\n    File \"C:\\Users\\rykun\\AppData\\Local\\Temp\\ipykernel_14952\\50569356.py\", line 16, in <module>\n      history = model.fit(trainX, trainY, epochs=100, batch_size=32, verbose=2, validation_data=(testX, testY))\n    File \"c:\\Users\\rykun\\OneDrive - Michigan State University\\Machine Learning\\CSE404-Group11\\env\\lib\\site-packages\\keras\\utils\\traceback_utils.py\", line 65, in error_handler\n      return fn(*args, **kwargs)\n    File \"c:\\Users\\rykun\\OneDrive - Michigan State University\\Machine Learning\\CSE404-Group11\\env\\lib\\site-packages\\keras\\engine\\training.py\", line 1685, in fit\n      tmp_logs = self.train_function(iterator)\n    File \"c:\\Users\\rykun\\OneDrive - Michigan State University\\Machine Learning\\CSE404-Group11\\env\\lib\\site-packages\\keras\\engine\\training.py\", line 1284, in train_function\n      return step_function(self, iterator)\n    File \"c:\\Users\\rykun\\OneDrive - Michigan State University\\Machine Learning\\CSE404-Group11\\env\\lib\\site-packages\\keras\\engine\\training.py\", line 1268, in step_function\n      outputs = model.distribute_strategy.run(run_step, args=(data,))\n    File \"c:\\Users\\rykun\\OneDrive - Michigan State University\\Machine Learning\\CSE404-Group11\\env\\lib\\site-packages\\keras\\engine\\training.py\", line 1249, in run_step\n      outputs = model.train_step(data)\n    File \"c:\\Users\\rykun\\OneDrive - Michigan State University\\Machine Learning\\CSE404-Group11\\env\\lib\\site-packages\\keras\\engine\\training.py\", line 1050, in train_step\n      y_pred = self(x, training=True)\n    File \"c:\\Users\\rykun\\OneDrive - Michigan State University\\Machine Learning\\CSE404-Group11\\env\\lib\\site-packages\\keras\\utils\\traceback_utils.py\", line 65, in error_handler\n      return fn(*args, **kwargs)\n    File \"c:\\Users\\rykun\\OneDrive - Michigan State University\\Machine Learning\\CSE404-Group11\\env\\lib\\site-packages\\keras\\engine\\training.py\", line 558, in __call__\n      return super().__call__(*args, **kwargs)\n    File \"c:\\Users\\rykun\\OneDrive - Michigan State University\\Machine Learning\\CSE404-Group11\\env\\lib\\site-packages\\keras\\utils\\traceback_utils.py\", line 65, in error_handler\n      return fn(*args, **kwargs)\n    File \"c:\\Users\\rykun\\OneDrive - Michigan State University\\Machine Learning\\CSE404-Group11\\env\\lib\\site-packages\\keras\\engine\\base_layer.py\", line 1145, in __call__\n      outputs = call_fn(inputs, *args, **kwargs)\n    File \"c:\\Users\\rykun\\OneDrive - Michigan State University\\Machine Learning\\CSE404-Group11\\env\\lib\\site-packages\\keras\\utils\\traceback_utils.py\", line 96, in error_handler\n      return fn(*args, **kwargs)\n    File \"c:\\Users\\rykun\\OneDrive - Michigan State University\\Machine Learning\\CSE404-Group11\\env\\lib\\site-packages\\keras\\engine\\sequential.py\", line 412, in call\n      return super().call(inputs, training=training, mask=mask)\n    File \"c:\\Users\\rykun\\OneDrive - Michigan State University\\Machine Learning\\CSE404-Group11\\env\\lib\\site-packages\\keras\\engine\\functional.py\", line 512, in call\n      return self._run_internal_graph(inputs, training=training, mask=mask)\n    File \"c:\\Users\\rykun\\OneDrive - Michigan State University\\Machine Learning\\CSE404-Group11\\env\\lib\\site-packages\\keras\\engine\\functional.py\", line 669, in _run_internal_graph\n      outputs = node.layer(*args, **kwargs)\n    File \"c:\\Users\\rykun\\OneDrive - Michigan State University\\Machine Learning\\CSE404-Group11\\env\\lib\\site-packages\\keras\\layers\\rnn\\base_rnn.py\", line 556, in __call__\n      return super().__call__(inputs, **kwargs)\n    File \"c:\\Users\\rykun\\OneDrive - Michigan State University\\Machine Learning\\CSE404-Group11\\env\\lib\\site-packages\\keras\\utils\\traceback_utils.py\", line 65, in error_handler\n      return fn(*args, **kwargs)\n    File \"c:\\Users\\rykun\\OneDrive - Michigan State University\\Machine Learning\\CSE404-Group11\\env\\lib\\site-packages\\keras\\engine\\base_layer.py\", line 1145, in __call__\n      outputs = call_fn(inputs, *args, **kwargs)\n    File \"c:\\Users\\rykun\\OneDrive - Michigan State University\\Machine Learning\\CSE404-Group11\\env\\lib\\site-packages\\keras\\utils\\traceback_utils.py\", line 96, in error_handler\n      return fn(*args, **kwargs)\n    File \"c:\\Users\\rykun\\OneDrive - Michigan State University\\Machine Learning\\CSE404-Group11\\env\\lib\\site-packages\\keras\\layers\\rnn\\lstm.py\", line 748, in call\n      ) = lstm_with_backend_selection(**normal_lstm_kwargs)\n    File \"c:\\Users\\rykun\\OneDrive - Michigan State University\\Machine Learning\\CSE404-Group11\\env\\lib\\site-packages\\keras\\layers\\rnn\\lstm.py\", line 1338, in lstm_with_backend_selection\n      last_output, outputs, new_h, new_c, runtime = defun_standard_lstm(\n    File \"c:\\Users\\rykun\\OneDrive - Michigan State University\\Machine Learning\\CSE404-Group11\\env\\lib\\site-packages\\keras\\layers\\rnn\\lstm.py\", line 980, in standard_lstm\n      last_output, outputs, new_states = backend.rnn(\n    File \"c:\\Users\\rykun\\OneDrive - Michigan State University\\Machine Learning\\CSE404-Group11\\env\\lib\\site-packages\\keras\\backend.py\", line 5169, in rnn\n      final_outputs = tf.compat.v1.while_loop(\n    File \"c:\\Users\\rykun\\OneDrive - Michigan State University\\Machine Learning\\CSE404-Group11\\env\\lib\\site-packages\\keras\\backend.py\", line 5148, in _step\n      output, new_states = step_function(\n    File \"c:\\Users\\rykun\\OneDrive - Michigan State University\\Machine Learning\\CSE404-Group11\\env\\lib\\site-packages\\keras\\layers\\rnn\\lstm.py\", line 966, in step\n      z = backend.dot(cell_inputs, kernel)\n    File \"c:\\Users\\rykun\\OneDrive - Michigan State University\\Machine Learning\\CSE404-Group11\\env\\lib\\site-packages\\keras\\backend.py\", line 2464, in dot\n      out = tf.matmul(x, y)\nNode: 'while/MatMul'\nMatrix size-incompatible: In[0]: [32,35], In[1]: [36,1024]\n\t [[{{node while/MatMul}}]]\n\t [[sequential/lstm/PartitionedCall]] [Op:__inference_train_function_40789]"
     ]
    }
   ],
   "source": [
    "# Needs a TON of epochs\n",
    "for i in range(20):\n",
    "    # Prepare the dataset\n",
    "    df = pd.read_csv('data.csv', header=0)\n",
    "    df['date'] = pd.to_datetime(df['date'])\n",
    "    df = df[df['storeNbr'] == i+1] # start with only the first store\n",
    "    data = df.sort_values(by=['date']).drop(columns=['date','storeNbr']).values\n",
    "\n",
    "\n",
    "    # Create input-output pairs\n",
    "    X, y = create_dataset(data, look_back)\n",
    "\n",
    "    # Split the data into training and testing sets\n",
    "    trainX, testX, trainY, testY = train_test_split(X, y, test_size=0.2, random_state=42)\n",
    "\n",
    "    history = model.fit(trainX, trainY, epochs=100, batch_size=32, verbose=2, validation_data=(testX, testY))\n",
    "\n",
    "    # Get the training loss and accuracy from the history object\n",
    "    training_loss = history.history['loss']\n",
    "    val_loss = history.history['val_loss']\n",
    "\n",
    "\n",
    "    # Plot the training loss and accuracy over the epochs\n",
    "    epochs = range(1, len(training_loss) + 1)\n",
    "\n",
    "    plt.plot(epochs, training_loss, 'bo', label='Training Loss')\n",
    "    plt.plot(epochs, val_loss, 'b', label='Validation Loss')\n",
    "    plt.title('Training and Validation Loss')\n",
    "    plt.xlabel('Epochs')\n",
    "    plt.ylabel('Loss')\n",
    "    plt.legend()\n",
    "\n",
    "    plt.show()"
   ]
  },
  {
   "attachments": {},
   "cell_type": "markdown",
   "metadata": {},
   "source": [
    "### Test Performance"
   ]
  },
  {
   "cell_type": "code",
   "execution_count": 10,
   "metadata": {},
   "outputs": [
    {
     "name": "stdout",
     "output_type": "stream",
     "text": [
      "23/23 [==============================] - 0s 9ms/step\n",
      "Mean Squared Error:  68592.14438589144\n",
      "Mean Absolute Error: 84.0454415952677\n",
      "R-squared score: 0.14306700673409384\n"
     ]
    },
    {
     "data": {
      "text/plain": [
       "'\\nMean Squared Error:  68592.14438589144\\nMean Absolute Error: 84.0454415952677\\nR-squared score: 0.14306700673409384\\n'"
      ]
     },
     "execution_count": 10,
     "metadata": {},
     "output_type": "execute_result"
    }
   ],
   "source": [
    "\n",
    "# Test the model and make predictions\n",
    "testPredictions = model.predict(testX)\n",
    "\n",
    "# Calculate the Mean Squared Error (MSE) on the test data\n",
    "test_mse = mean_squared_error(testY, testPredictions)\n",
    "print(\"Mean Squared Error: \", test_mse)\n",
    "\n",
    "test_mae = mean_absolute_error(testY, testPredictions)\n",
    "test_r2 = r2_score(testY, testPredictions)\n",
    "\n",
    "print(\"Mean Absolute Error:\", test_mae)\n",
    "print(\"R-squared score:\", test_r2)\n",
    "\"\"\"\n",
    "Mean Squared Error:  66174.43491272551\n",
    "Mean Absolute Error: 81.56172771348042\n",
    "R-squared score: 0.13775325212931822\n",
    "oof\n",
    "\"\"\"\n",
    "\"\"\"\n",
    "Mean Squared Error:  68592.14438589144\n",
    "Mean Absolute Error: 84.0454415952677\n",
    "R-squared score: 0.14306700673409384\n",
    "\"\"\"\n",
    "\n"
   ]
  },
  {
   "cell_type": "code",
   "execution_count": null,
   "metadata": {},
   "outputs": [],
   "source": [
    "x = np.array([testX[-1]]) # predict last point\n",
    "model.predict(x)\n",
    "\n",
    "\n",
    "\"\"\"\n",
    "array([[-6.1686362e-05,  4.6692055e-01,  3.8359444e+01, -2.6546391e-05,\n",
    "         1.8567648e+02,  1.6154854e+00,  4.1970105e+02,  3.5754965e+02,\n",
    "         3.5898205e+01,  1.7267962e+01,  9.8091194e+01, -2.0850977e+02,\n",
    "         5.2151585e+00, -4.8492447e-02,  1.9163357e+00,  4.5457201e+00,\n",
    "        -1.4824487e-02,  3.1117912e+01,  7.9827392e-01,  2.3482652e+00,\n",
    "         1.7561276e+00,  2.7935734e+01,  9.0150878e-02,  8.9242462e+01,\n",
    "         5.5166054e+01,  2.0977840e-01,  1.1819119e+00,  3.2852470e+01,\n",
    "         3.1793232e+00,  4.8103748e+01,  1.4592125e-01,  3.9945490e+00]\n",
    "\"\"\"\n"
   ]
  },
  {
   "attachments": {},
   "cell_type": "markdown",
   "metadata": {},
   "source": [
    "### Notes\n",
    "\n",
    "- Model takes way too long to train\n",
    "- Most likely need to normalize\n",
    "- Considerations for null data?\n",
    "- Architecture for store specific model\n",
    "    - Encapsulate BST\n",
    "- Grid search hyperparams\n",
    "    - window size\n",
    "    - optimizer"
   ]
  }
 ],
 "metadata": {
  "kernelspec": {
   "display_name": "venv",
   "language": "python",
   "name": "python3"
  },
  "language_info": {
   "codemirror_mode": {
    "name": "ipython",
    "version": 3
   },
   "file_extension": ".py",
   "mimetype": "text/x-python",
   "name": "python",
   "nbconvert_exporter": "python",
   "pygments_lexer": "ipython3",
   "version": "3.10.11"
  },
  "orig_nbformat": 4
 },
 "nbformat": 4,
 "nbformat_minor": 2
}
