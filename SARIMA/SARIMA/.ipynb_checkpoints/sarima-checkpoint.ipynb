{
 "cells": [
  {
   "cell_type": "code",
   "execution_count": 1,
   "id": "693edec8",
   "metadata": {},
   "outputs": [
    {
     "ename": "NameError",
     "evalue": "name 'train' is not defined",
     "output_type": "error",
     "traceback": [
      "\u001b[0;31m---------------------------------------------------------------------------\u001b[0m",
      "\u001b[0;31mNameError\u001b[0m                                 Traceback (most recent call last)",
      "Cell \u001b[0;32mIn[1], line 20\u001b[0m\n\u001b[1;32m     11\u001b[0m df\u001b[38;5;241m=\u001b[39mdf[\u001b[38;5;124m'\u001b[39m\u001b[38;5;124mtotal_sales\u001b[39m\u001b[38;5;124m'\u001b[39m]\n\u001b[1;32m     14\u001b[0m \u001b[38;5;66;03m#plot shows seasonal [weekly] trend: PACF,ACF spike every 7 days.\u001b[39;00m\n\u001b[1;32m     15\u001b[0m \u001b[38;5;66;03m#To explain, autocorrelation shifts the data ahead and calculates how well it correlates with its past self.\u001b[39;00m\n\u001b[1;32m     16\u001b[0m \u001b[38;5;66;03m#This is a country in South America, I think? It makes sense that the stores would get little traffic on Sundays, because they are very religious.\u001b[39;00m\n\u001b[1;32m     17\u001b[0m \n\u001b[1;32m     18\u001b[0m \n\u001b[1;32m     19\u001b[0m \u001b[38;5;66;03m#The Augmented Dickey-Fuller test figures out whether a time-series is stationary [roughly constant].\u001b[39;00m\n\u001b[0;32m---> 20\u001b[0m \u001b[38;5;28mprint\u001b[39m(adfuller(\u001b[43mtrain\u001b[49m))\n",
      "\u001b[0;31mNameError\u001b[0m: name 'train' is not defined"
     ]
    }
   ],
   "source": [
    "#!/usr/bin/env python3\n",
    "import pandas as pd\n",
    "from matplotlib import pyplot as plt\n",
    "from statsmodels.tsa.seasonal import seasonal_decompose\n",
    "from statsmodels.graphics.tsaplots import plot_pacf,plot_acf\n",
    "from statsmodels.tsa.stattools import adfuller\n",
    "#https://towardsdatascience.com/understanding-the-seasonal-order-of-the-sarima-model-ebef613e40fa\n",
    "\n",
    "#slice it up\n",
    "df=pd.read_csv('store_1.csv',index_col=0)\n",
    "df=df['total_sales']\n",
    "\n",
    "\n",
    "#plot shows seasonal [weekly] trend: PACF,ACF spike every 7 days.\n",
    "#To explain, autocorrelation shifts the data ahead and calculates how well it correlates with its past self.\n",
    "#This is a country in South America, I think? It makes sense that the stores would get little traffic on Sundays, because they are very religious.\n",
    "\n",
    "\n",
    "\n"
   ]
  },
  {
   "cell_type": "code",
   "execution_count": null,
   "id": "559a0639",
   "metadata": {},
   "outputs": [],
   "source": [
    "plt.plot(df)\n",
    "plt.show()"
   ]
  },
  {
   "cell_type": "code",
   "execution_count": null,
   "id": "a3aee5f4",
   "metadata": {},
   "outputs": [],
   "source": [
    "plot_pacf(df)\n",
    "plt.show()\n",
    "plot_acf(df)\n",
    "plt.show()"
   ]
  },
  {
   "cell_type": "code",
   "execution_count": null,
   "id": "ec504d26",
   "metadata": {},
   "outputs": [],
   "source": [
    "#The Augmented Dickey-Fuller test figures out whether a time-series is stationary [roughly constant].\n",
    "print(adfuller(train))"
   ]
  },
  {
   "cell_type": "code",
   "execution_count": null,
   "id": "5df20ffd",
   "metadata": {},
   "outputs": [],
   "source": [
    "#roughly 80-20 split\n",
    "train=df[:'2016-09-12']\n",
    "test=df['2016-09-13':]\n",
    "print(test.head())"
   ]
  }
 ],
 "metadata": {
  "kernelspec": {
   "display_name": "Python 3 (ipykernel)",
   "language": "python",
   "name": "python3"
  },
  "language_info": {
   "codemirror_mode": {
    "name": "ipython",
    "version": 3
   },
   "file_extension": ".py",
   "mimetype": "text/x-python",
   "name": "python",
   "nbconvert_exporter": "python",
   "pygments_lexer": "ipython3",
   "version": "3.10.6"
  }
 },
 "nbformat": 4,
 "nbformat_minor": 5
}
