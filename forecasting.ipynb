{
 "cells": [
  {
   "cell_type": "code",
   "execution_count": null,
   "metadata": {},
   "outputs": [],
   "source": [
    "import pandas as pd\n",
    "import tensorflow as tf\n",
    "import matplotlib.pyplot as plt\n",
    "from tensorflow.keras.layers import LSTM, Dense\n",
    "import sklearn\n",
    "from sklearn.model_selection import train_test_split\n",
    "from sklearn.metrics import mean_squared_error\n",
    "from tensorflow import keras\n",
    "from tensorflow.keras import Sequential\n",
    "import numpy as np \n",
    "\n",
    "\n",
    "train1 = pd.read_csv('train_1.csv', sep=',', header=0)\n",
    "train2 = pd.read_csv('train_2.csv', sep=',', header=0)\n",
    "train3 = pd.read_csv('train_3.csv', sep=',', header=0)\n",
    "train4 = pd.read_csv('train_4.csv', sep=',', header=0)\n",
    "test = pd.read_csv('test.csv', sep=',', header=0)\n",
    "\n",
    "train = pd.concat([train1, train2, train3, train4], ignore_index=True)\n",
    "all_data = pd.concat([train, test], ignore_index=True)[:500]"
   ]
  },
  {
   "cell_type": "code",
   "execution_count": null,
   "metadata": {},
   "outputs": [],
   "source": [
    "#train_layer = keras.layers.Normalization(axis=None).adapt(train)\n",
    "#test_layer = keras.layers.Normalization(axis=None).adapt(test)\n",
    "#test_layer\n",
    "#train_new = train.drop(labels=['date', 'id', 'family'], axis=1)\n",
    "#data = train_new.values\n",
    "data = all_data.drop(labels=['date', 'family', 'id', 'store_nbr'], axis=1).values\n",
    "display(all_data)\n",
    "data = data.astype('float32')\n",
    "scaler = sklearn.preprocessing.MinMaxScaler(feature_range=(0, 1))\n",
    "data = scaler.fit_transform(data)\n",
    "train_size = int(len(data) * 0.7)\n",
    "test_size = len(data)-train_size\n",
    "train, test = data[0:train_size,:], data[train_size:len(data),:]\n",
    "print(len(train), len(test))\n",
    "\n",
    "def create_dataset(dataset, look_back=1):\n",
    "\tdataX, dataY = [], []\n",
    "\tfor i in range(len(dataset)-look_back-1):\n",
    "\t\ta = dataset[i:(i+look_back), 0]\n",
    "\t\tdataX.append(a)\n",
    "\t\tdataY.append(dataset[i + look_back, 0])\n",
    "\treturn np.array(dataX), np.array(dataY)\n",
    "\n",
    "look_back = 1\n",
    "trainX, trainY = create_dataset(train, look_back)\n",
    "testX, testY = create_dataset(test, look_back)\n",
    "\n",
    "trainX = np.reshape(trainX, (trainX.shape[0], 1, trainX.shape[1]))\n",
    "testX = np.reshape(testX, (testX.shape[0], 1, testX.shape[1]))\n",
    "\n",
    "\n",
    "# create and fit the LSTM network\n",
    "model = Sequential()\n",
    "model.add(LSTM(4, input_shape=(1, look_back)))\n",
    "model.add(Dense(1))\n",
    "model.compile(loss='mean_squared_error', optimizer='adam')\n",
    "model.fit(trainX, trainY, epochs=5, batch_size=1, verbose=2)"
   ]
  },
  {
   "cell_type": "code",
   "execution_count": null,
   "metadata": {},
   "outputs": [],
   "source": [
    "# make predictions\n",
    "trainPredict = model.predict(trainX)\n",
    "testPredict = model.predict(testX)\n",
    "# invert predictions\n",
    "trainPredict = scaler.inverse_transform(trainPredict)\n",
    "trainY = scaler.inverse_transform([trainY])\n",
    "testPredict = scaler.inverse_transform(testPredict)\n",
    "testY = scaler.inverse_transform([testY])\n",
    "# calculate root mean squared error\n",
    "trainScore = np.sqrt(mean_squared_error(trainY[0], trainPredict[:,0]))\n",
    "print('Train Score: %.2f RMSE' % (trainScore))\n",
    "testScore = np.sqrt(mean_squared_error(testY[0], testPredict[:,0]))\n",
    "print('Test Score: %.2f RMSE' % (testScore))\n"
   ]
  },
  {
   "cell_type": "code",
   "execution_count": null,
   "metadata": {},
   "outputs": [],
   "source": [
    "# shift train predictions for plotting\n",
    "trainPredictPlot = np.empty_like(dataset)\n",
    "trainPredictPlot[:, :] = np.nan\n",
    "trainPredictPlot[look_back:len(trainPredict)+look_back, :] = trainPredict\n",
    "# shift test predictions for plotting\n",
    "testPredictPlot = np.empty_like(dataset)\n",
    "testPredictPlot[:, :] = np.nan\n",
    "testPredictPlot[len(trainPredict)+(look_back*2)+1:len(dataset)-1, :] = testPredict\n",
    "# plot baseline and predictions\n",
    "plt.plot(scaler.inverse_transform(dataset))\n",
    "plt.plot(trainPredictPlot)\n",
    "plt.plot(testPredictPlot)\n",
    "plt.show()"
   ]
  },
  {
   "cell_type": "code",
   "execution_count": null,
   "metadata": {},
   "outputs": [],
   "source": []
  },
  {
   "cell_type": "code",
   "execution_count": 3,
   "metadata": {},
   "outputs": [
    {
     "data": {
      "text/plain": [
       "Forecaster(\n",
       "    DateStartActuals=2013-01-01T00:00:00.000000000\n",
       "    DateEndActuals=2013-01-01T00:00:00.000000000\n",
       "    Freq=None\n",
       "    N_actuals=500\n",
       "    ForecastLength=0\n",
       "    Xvars=[]\n",
       "    TestLength=0\n",
       "    ValidationLength=1\n",
       "    ValidationMetric=rmse\n",
       "    ForecastsEvaluated=[]\n",
       "    CILevel=None\n",
       "    CurrentEstimator=mlr\n",
       "    GridsFile=Grids\n",
       ")"
      ]
     },
     "execution_count": 3,
     "metadata": {},
     "output_type": "execute_result"
    }
   ],
   "source": [
    "import pandas as pd\n",
    "import numpy as np \n",
    "import seaborn as sns\n",
    "import matplotlib.pyplot as plt\n",
    "from scalecast.Forecaster import Forecaster \n",
    "\n",
    "train1 = pd.read_csv('train_1.csv', sep=',', header=0, parse_dates='date')\n",
    "train2 = pd.read_csv('train_2.csv', sep=',', header=0, parse_dates='date')\n",
    "train3 = pd.read_csv('train_3.csv', sep=',', header=0, parse_dates='date')\n",
    "train4 = pd.read_csv('train_4.csv', sep=',', header=0, parse_dates='date')\n",
    "test = pd.read_csv('test.csv', sep=',', header=0, parse_dates='date')\n",
    "\n",
    "train = pd.concat([train1, train2, train3, train4], ignore_index=True)\n",
    "all_data = pd.concat([train, test], ignore_index=True)[:500]\n",
    "\n",
    "df = all_data\n",
    "\n",
    "f = Forecaster(y = df['sales'], current_dates=df['date'])\n",
    "f"
   ]
  },
  {
   "cell_type": "code",
   "execution_count": null,
   "metadata": {},
   "outputs": [],
   "source": []
  }
 ],
 "metadata": {
  "kernelspec": {
   "display_name": "Python 3",
   "language": "python",
   "name": "python3"
  },
  "language_info": {
   "codemirror_mode": {
    "name": "ipython",
    "version": 3
   },
   "file_extension": ".py",
   "mimetype": "text/x-python",
   "name": "python",
   "nbconvert_exporter": "python",
   "pygments_lexer": "ipython3",
   "version": "3.10.5"
  },
  "orig_nbformat": 4
 },
 "nbformat": 4,
 "nbformat_minor": 2
}
