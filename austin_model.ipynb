{
 "cells": [
  {
   "cell_type": "code",
   "execution_count": null,
   "metadata": {},
   "outputs": [],
   "source": [
    "import pandas as pd\n",
    "import matplotlib.pyplot as plt\n",
    "import numpy as np\n",
    "from sklearn.preprocessing import MinMaxScaler\n",
    "from keras.models import Sequential\n",
    "from keras.models import save_model, load_model\n",
    "from keras.layers import Dense\n",
    "from keras.layers import LSTM\n",
    "from keras.layers import Dropout\n",
    "from math import floor\n",
    "\n",
    "\n",
    "# Keeping this as a reference for how we created the data\n",
    "#train1 = pd.read_csv('train_1.csv', sep=',', header=0)\n",
    "#train2 = pd.read_csv('train_2.csv', sep=',', header=0)\n",
    "#train3 = pd.read_csv('train_3.csv', sep=',', header=0)\n",
    "#train4 = pd.read_csv('train_4.csv', sep=',', header=0)\n",
    "#train = pd.concat([train1, train2, train3, train4], ignore_index=True)\n",
    "#test = pd.read_csv('test.csv', header=0)\n",
    "#train = train[train['store_nbr'] == 1]\n",
    "#train = train.drop(columns=[\"id\", \"store_nbr\"], axis=1)\n",
    "#train_data = train.pivot_table(index=['date'], columns=\"family\", values='sales')\n",
    "#train_data[\"total_sales\"] = train_data[list(train_data.columns[1:])].sum(axis=1)\n",
    "#amt = floor(len(train_data)*.8)\n",
    "#test_data = train_data[amt:]\n",
    "#train_data = train_data[:amt]\n",
    "\n"
   ]
  },
  {
   "cell_type": "code",
   "execution_count": null,
   "metadata": {},
   "outputs": [],
   "source": [
    "def parse_data(column_index, scaler):\n",
    "\n",
    "    store_1_data = pd.read_csv(\"train_data_store_1.csv\")\n",
    "    if column_index == (len(store_1_data.columns)-1):\n",
    "        total_sales = store_1_data.iloc[:,-1:].values\n",
    "    else:\n",
    "        total_sales = store_1_data.iloc[:, column_index: (column_index+1 if (column_index+1) <= (len(store_1_data.columns) - 1) else -1) ].values\n",
    " \n",
    "    training_set = total_sales[:floor(len(total_sales)*.8)]\n",
    "    testing_set = total_sales[floor(len(total_sales)*.8):]\n",
    "    scaled_data = scaler.fit_transform(training_set)\n",
    "    X_train = []\n",
    "    y_train = []\n",
    "    for i in range(14, len(training_set)):\n",
    "        X_train.append(scaled_data[i-14:i, 0])\n",
    "        y_train.append(scaled_data[i, 0])\n",
    "    X_train, y_train = np.array(X_train), np.array(y_train)\n",
    "    X_train = np.reshape(X_train, (X_train.shape[0], X_train.shape[1], 1))\n",
    "    return X_train, y_train, total_sales, training_set, testing_set\n",
    "def create_model(X_train):\n",
    "    model = Sequential()\n",
    "    model.add(LSTM(units=55, return_sequences=True, input_shape=(X_train.shape[1], 1)))\n",
    "    model.add(Dropout(0.2))\n",
    "    model.add(LSTM(units=55, return_sequences=True))\n",
    "    model.add(Dropout(0.2))\n",
    "    model.add(LSTM(units=55, return_sequences=True))\n",
    "    model.add(LSTM(units=55))\n",
    "    model.add(Dropout(0.2))\n",
    "    model.add(Dense(units=1))\n",
    "    model.compile(optimizer='adam', loss='mean_squared_logarithmic_error')\n",
    "    return model\n",
    "\n",
    "\n",
    "\n",
    "\n",
    "\n"
   ]
  },
  {
   "cell_type": "code",
   "execution_count": null,
   "metadata": {},
   "outputs": [],
   "source": [
    "\n",
    "def train_fit_predict(column_index, epochs, batch_size):\n",
    "    scaler = MinMaxScaler(feature_range=(0,1))\n",
    "    X_train, y_train, column_data, training_set, testing_set = parse_data(column_index, scaler)\n",
    "    model = create_model(X_train)\n",
    "    model.fit(X_train, y_train, epochs=epochs, batch_size=batch_size, validation_split=0.1)\n",
    "    total_sales = column_data\n",
    "    data = pd.DataFrame(total_sales[len(total_sales) - len(testing_set) - 14:]).values\n",
    "    data = data.reshape(-1, 1)\n",
    "    data = scaler.transform(data)\n",
    "    X_test = []\n",
    "    for i in range(14, len(testing_set)):\n",
    "        X_test.append(data[i-14:i, 0])\n",
    "    X_test = np.array(X_test)\n",
    "    X_test = np.reshape(X_test, (X_test.shape[0], X_test.shape[1], 1))\n",
    "    pred = model.predict(X_test)\n",
    "    pred = scaler.inverse_transform(pred)\n",
    "    eval_res = model.evaluate(X_train, y_train, verbose=False)\n",
    "    return pred, testing_set, eval_res"
   ]
  },
  {
   "cell_type": "code",
   "execution_count": null,
   "metadata": {},
   "outputs": [],
   "source": [
    "#Save model\n",
    "#model.save('austin_model_save')"
   ]
  },
  {
   "cell_type": "code",
   "execution_count": null,
   "metadata": {},
   "outputs": [],
   "source": [
    "#Load model\n",
    "#model = load_model('austin_model_save')"
   ]
  },
  {
   "cell_type": "code",
   "execution_count": null,
   "metadata": {},
   "outputs": [],
   "source": [
    "def predict_column(column_index_to_test, epochs, batch_size):\n",
    "    pred, testing_set, eval_res= train_fit_predict(column_index_to_test, epochs, batch_size)\n",
    "    print(f\"Evaluation loss: {eval_res}\")\n",
    "    colNames = pd.read_csv(\"train_data_store_1.csv\").columns\n",
    "    plt.plot(testing_set[:-14], color='blue', label=f'{colNames[column_index_to_test]} Sales')\n",
    "    plt.plot(pred, color='red', label=f'{colNames[column_index_to_test]} Predicted Total Sales')\n",
    "    plt.title(f\"Store 1 {colNames[column_index_to_test].title()} sales\")\n",
    "    plt.legend()"
   ]
  },
  {
   "cell_type": "code",
   "execution_count": null,
   "metadata": {},
   "outputs": [],
   "source": [
    "predict_column(1, 150, 8)"
   ]
  },
  {
   "cell_type": "code",
   "execution_count": null,
   "metadata": {},
   "outputs": [],
   "source": [
    "predict_column(2, 10, 32)"
   ]
  },
  {
   "cell_type": "code",
   "execution_count": null,
   "metadata": {},
   "outputs": [],
   "source": [
    "predict_column(3, 150, 8)"
   ]
  },
  {
   "cell_type": "code",
   "execution_count": null,
   "metadata": {},
   "outputs": [],
   "source": [
    "predict_column(4, 150, 8)"
   ]
  },
  {
   "cell_type": "code",
   "execution_count": null,
   "metadata": {},
   "outputs": [],
   "source": [
    "predict_column(5, 150, 8)"
   ]
  },
  {
   "cell_type": "code",
   "execution_count": null,
   "metadata": {},
   "outputs": [],
   "source": [
    "predict_column(6, 150, 8)"
   ]
  },
  {
   "cell_type": "code",
   "execution_count": null,
   "metadata": {},
   "outputs": [],
   "source": [
    "predict_column(7, 150, 8)"
   ]
  },
  {
   "cell_type": "code",
   "execution_count": null,
   "metadata": {},
   "outputs": [],
   "source": [
    "predict_column(8, 150, 8)"
   ]
  },
  {
   "cell_type": "code",
   "execution_count": null,
   "metadata": {},
   "outputs": [],
   "source": [
    "predict_column(9, 150, 8)"
   ]
  },
  {
   "cell_type": "code",
   "execution_count": null,
   "metadata": {},
   "outputs": [],
   "source": [
    "predict_column(10, 150, 8)"
   ]
  },
  {
   "cell_type": "code",
   "execution_count": null,
   "metadata": {},
   "outputs": [],
   "source": [
    "predict_column(11, 150, 8)"
   ]
  },
  {
   "cell_type": "code",
   "execution_count": null,
   "metadata": {},
   "outputs": [],
   "source": [
    "predict_column(12, 150, 8)"
   ]
  },
  {
   "cell_type": "code",
   "execution_count": null,
   "metadata": {},
   "outputs": [],
   "source": [
    "predict_column(13, 150, 8)"
   ]
  },
  {
   "cell_type": "code",
   "execution_count": null,
   "metadata": {},
   "outputs": [],
   "source": [
    "predict_column(14, 150, 8)"
   ]
  },
  {
   "cell_type": "code",
   "execution_count": null,
   "metadata": {},
   "outputs": [],
   "source": [
    "predict_column(15, 150, 8)"
   ]
  },
  {
   "cell_type": "code",
   "execution_count": null,
   "metadata": {},
   "outputs": [],
   "source": [
    "predict_column(16, 150, 8)"
   ]
  },
  {
   "cell_type": "code",
   "execution_count": null,
   "metadata": {},
   "outputs": [],
   "source": [
    "predict_column(17, 150, 8)"
   ]
  },
  {
   "cell_type": "code",
   "execution_count": null,
   "metadata": {},
   "outputs": [],
   "source": [
    "predict_column(18, 150, 8)"
   ]
  },
  {
   "cell_type": "code",
   "execution_count": null,
   "metadata": {},
   "outputs": [],
   "source": [
    "predict_column(19, 150, 8)"
   ]
  },
  {
   "cell_type": "code",
   "execution_count": null,
   "metadata": {},
   "outputs": [],
   "source": [
    "predict_column(20, 150, 8)"
   ]
  },
  {
   "cell_type": "code",
   "execution_count": null,
   "metadata": {},
   "outputs": [],
   "source": [
    "predict_column(21, 150, 8)"
   ]
  },
  {
   "cell_type": "code",
   "execution_count": null,
   "metadata": {},
   "outputs": [],
   "source": [
    "predict_column(22, 150, 8)"
   ]
  },
  {
   "cell_type": "code",
   "execution_count": null,
   "metadata": {},
   "outputs": [],
   "source": [
    "predict_column(23, 150, 8)"
   ]
  },
  {
   "cell_type": "code",
   "execution_count": null,
   "metadata": {},
   "outputs": [],
   "source": [
    "predict_column(24, 150, 8)"
   ]
  },
  {
   "cell_type": "code",
   "execution_count": null,
   "metadata": {},
   "outputs": [],
   "source": [
    "predict_column(25, 150, 8)"
   ]
  },
  {
   "cell_type": "code",
   "execution_count": null,
   "metadata": {},
   "outputs": [],
   "source": [
    "predict_column(26, 150, 8)"
   ]
  },
  {
   "cell_type": "code",
   "execution_count": null,
   "metadata": {},
   "outputs": [],
   "source": [
    "predict_column(27, 150, 8)"
   ]
  },
  {
   "cell_type": "code",
   "execution_count": null,
   "metadata": {},
   "outputs": [],
   "source": [
    "predict_column(28, 150, 8)"
   ]
  },
  {
   "cell_type": "code",
   "execution_count": null,
   "metadata": {},
   "outputs": [],
   "source": [
    "predict_column(29, 150, 8)"
   ]
  },
  {
   "cell_type": "code",
   "execution_count": null,
   "metadata": {},
   "outputs": [],
   "source": [
    "predict_column(30, 150, 8)"
   ]
  },
  {
   "cell_type": "code",
   "execution_count": null,
   "metadata": {},
   "outputs": [],
   "source": [
    "predict_column(31, 150, 8)"
   ]
  },
  {
   "cell_type": "code",
   "execution_count": null,
   "metadata": {},
   "outputs": [],
   "source": [
    "predict_column(32, 150, 8)"
   ]
  },
  {
   "cell_type": "code",
   "execution_count": null,
   "metadata": {},
   "outputs": [],
   "source": [
    "predict_column(33, 150, 8)"
   ]
  },
  {
   "cell_type": "code",
   "execution_count": null,
   "metadata": {},
   "outputs": [],
   "source": [
    "predict_column(34, 150, 8)"
   ]
  },
  {
   "cell_type": "code",
   "execution_count": null,
   "metadata": {},
   "outputs": [],
   "source": []
  }
 ],
 "metadata": {
  "kernelspec": {
   "display_name": "Python 3 (ipykernel)",
   "language": "python",
   "name": "python3"
  },
  "language_info": {
   "codemirror_mode": {
    "name": "ipython",
    "version": 3
   },
   "file_extension": ".py",
   "mimetype": "text/x-python",
   "name": "python",
   "nbconvert_exporter": "python",
   "pygments_lexer": "ipython3",
   "version": "3.10.5"
  },
  "vscode": {
   "interpreter": {
    "hash": "79e2c46ab2a5936cf8768d53a7257a8bc2f53c0c84fcaec7ab200a2f4afb95da"
   }
  }
 },
 "nbformat": 4,
 "nbformat_minor": 4
}
