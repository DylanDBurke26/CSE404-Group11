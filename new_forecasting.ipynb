{
 "cells": [
  {
   "cell_type": "code",
   "execution_count": 43,
   "metadata": {},
   "outputs": [],
   "source": [
    "import pandas as pd\n",
    "\n",
    "train1 = pd.read_csv('train_1.csv', sep=',', header=0)\n",
    "train2 = pd.read_csv('train_2.csv', sep=',', header=0)\n",
    "train3 = pd.read_csv('train_3.csv', sep=',', header=0)\n",
    "train4 = pd.read_csv('train_4.csv', sep=',', header=0)\n",
    "train = pd.concat([train1, train2, train3, train4], ignore_index=True)\n",
    "train = train[train['store_nbr'] == 1]"
   ]
  },
  {
   "cell_type": "code",
   "execution_count": 44,
   "metadata": {},
   "outputs": [],
   "source": [
    "train = train.drop(columns=[\"id\", \"store_nbr\"], axis=1)\n",
    "train_data = train.pivot_table(index=['date'], columns=\"family\", values='sales')\n",
    "train_data[\"total_sales\"] = train_data[list(train_data.columns[1:])].sum(axis=1)\n",
    "train_data.to_csv('test_out.csv')"
   ]
  }
 ],
 "metadata": {
  "kernelspec": {
   "display_name": "Python 3",
   "language": "python",
   "name": "python3"
  },
  "language_info": {
   "codemirror_mode": {
    "name": "ipython",
    "version": 3
   },
   "file_extension": ".py",
   "mimetype": "text/x-python",
   "name": "python",
   "nbconvert_exporter": "python",
   "pygments_lexer": "ipython3",
   "version": "3.10.5"
  },
  "orig_nbformat": 4
 },
 "nbformat": 4,
 "nbformat_minor": 2
}
